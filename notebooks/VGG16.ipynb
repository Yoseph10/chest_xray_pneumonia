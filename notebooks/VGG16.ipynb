{
  "nbformat": 4,
  "nbformat_minor": 0,
  "metadata": {
    "colab": {
      "provenance": [],
      "gpuType": "T4"
    },
    "kernelspec": {
      "name": "python3",
      "display_name": "Python 3"
    },
    "language_info": {
      "name": "python"
    },
    "accelerator": "GPU"
  },
  "cells": [
    {
      "cell_type": "code",
      "source": [
        "import os\n",
        "\n",
        "import numpy as np\n",
        "import tensorflow as tf\n",
        "from tensorflow.keras.preprocessing.image import ImageDataGenerator\n",
        "from tensorflow.keras.applications import ResNet50, InceptionV3, DenseNet121\n",
        "from tensorflow.keras.models import Model\n",
        "from tensorflow.keras.layers import Dense, Flatten, Dropout, GlobalAveragePooling2D\n",
        "from tensorflow.keras.optimizers import Adam\n",
        "from tensorflow.keras.callbacks import ReduceLROnPlateau, EarlyStopping, LearningRateScheduler\n",
        "from sklearn.utils.class_weight import compute_class_weight\n",
        "\n",
        "def count_images(directory):\n",
        "    return {category: len(os.listdir(os.path.join(directory, category))) for category in [\"NORMAL\", \"PNEUMONIA\"]}\n",
        "\n",
        "# Descargar y extraer el dataset (Ejecutar en local o en Colab con credenciales de Kaggle)\n",
        "kaggle_dataset = \"paultimothymooney/chest-xray-pneumonia\"\n",
        "!kaggle datasets download -d {kaggle_dataset} --unzip\n",
        "\n",
        "dataset_path = \"chest_xray\"\n",
        "train_dir = os.path.join(dataset_path, \"train\")\n",
        "val_dir = os.path.join(dataset_path, \"val\")\n",
        "test_dir = os.path.join(dataset_path, \"test\")\n",
        "\n",
        "print(\"Dataset inicial:\")\n",
        "print(\"Train:\", count_images(train_dir))\n",
        "print(\"Validation:\", count_images(val_dir))\n",
        "print(\"Test:\", count_images(test_dir))"
      ],
      "metadata": {
        "colab": {
          "base_uri": "https://localhost:8080/"
        },
        "id": "TnK0ukicVw0H",
        "outputId": "36dd5e32-95eb-4738-8c36-b021f90dd842"
      },
      "execution_count": 1,
      "outputs": [
        {
          "output_type": "stream",
          "name": "stdout",
          "text": [
            "Dataset URL: https://www.kaggle.com/datasets/paultimothymooney/chest-xray-pneumonia\n",
            "License(s): other\n",
            "Downloading chest-xray-pneumonia.zip to /content\n",
            "100% 2.29G/2.29G [01:45<00:00, 23.3MB/s]\n",
            "100% 2.29G/2.29G [01:45<00:00, 23.4MB/s]\n",
            "Dataset inicial:\n",
            "Train: {'NORMAL': 1341, 'PNEUMONIA': 3875}\n",
            "Validation: {'NORMAL': 8, 'PNEUMONIA': 8}\n",
            "Test: {'NORMAL': 234, 'PNEUMONIA': 390}\n"
          ]
        }
      ]
    },
    {
      "cell_type": "code",
      "execution_count": 3,
      "metadata": {
        "colab": {
          "base_uri": "https://localhost:8080/",
          "height": 1000
        },
        "id": "vXQ-tXwYOzfX",
        "outputId": "7ee7c62b-2e62-4a52-da3c-0a174cdde09e"
      },
      "outputs": [
        {
          "output_type": "stream",
          "name": "stdout",
          "text": [
            "Found 5216 images belonging to 2 classes.\n",
            "Found 624 images belonging to 2 classes.\n"
          ]
        },
        {
          "output_type": "stream",
          "name": "stderr",
          "text": [
            "/usr/local/lib/python3.11/dist-packages/keras/src/trainers/data_adapters/py_dataset_adapter.py:121: UserWarning: Your `PyDataset` class should call `super().__init__(**kwargs)` in its constructor. `**kwargs` can include `workers`, `use_multiprocessing`, `max_queue_size`. Do not pass these arguments to `fit()`, as they will be ignored.\n",
            "  self._warn_if_super_not_called()\n"
          ]
        },
        {
          "output_type": "stream",
          "name": "stdout",
          "text": [
            "Epoch 1/20\n",
            "\u001b[1m163/163\u001b[0m \u001b[32m━━━━━━━━━━━━━━━━━━━━\u001b[0m\u001b[37m\u001b[0m \u001b[1m142s\u001b[0m 830ms/step - accuracy: 0.7809 - loss: 0.4811 - val_accuracy: 0.9183 - val_loss: 0.2702 - learning_rate: 1.0000e-04\n",
            "Epoch 2/20\n",
            "\u001b[1m163/163\u001b[0m \u001b[32m━━━━━━━━━━━━━━━━━━━━\u001b[0m\u001b[37m\u001b[0m \u001b[1m135s\u001b[0m 825ms/step - accuracy: 0.9366 - loss: 0.2185 - val_accuracy: 0.8718 - val_loss: 0.3110 - learning_rate: 1.8000e-04\n",
            "Epoch 3/20\n",
            "\u001b[1m163/163\u001b[0m \u001b[32m━━━━━━━━━━━━━━━━━━━━\u001b[0m\u001b[37m\u001b[0m \u001b[1m132s\u001b[0m 811ms/step - accuracy: 0.9483 - loss: 0.1807 - val_accuracy: 0.9183 - val_loss: 0.2595 - learning_rate: 2.6000e-04\n",
            "Epoch 4/20\n",
            "\u001b[1m163/163\u001b[0m \u001b[32m━━━━━━━━━━━━━━━━━━━━\u001b[0m\u001b[37m\u001b[0m \u001b[1m131s\u001b[0m 801ms/step - accuracy: 0.9440 - loss: 0.1866 - val_accuracy: 0.9359 - val_loss: 0.2966 - learning_rate: 3.4000e-04\n",
            "Epoch 5/20\n",
            "\u001b[1m163/163\u001b[0m \u001b[32m━━━━━━━━━━━━━━━━━━━━\u001b[0m\u001b[37m\u001b[0m \u001b[1m132s\u001b[0m 811ms/step - accuracy: 0.9418 - loss: 0.1978 - val_accuracy: 0.9119 - val_loss: 0.2259 - learning_rate: 4.2000e-04\n",
            "Epoch 6/20\n",
            "\u001b[1m163/163\u001b[0m \u001b[32m━━━━━━━━━━━━━━━━━━━━\u001b[0m\u001b[37m\u001b[0m \u001b[1m132s\u001b[0m 812ms/step - accuracy: 0.9470 - loss: 0.1546 - val_accuracy: 0.8702 - val_loss: 0.3768 - learning_rate: 5.0000e-04\n",
            "Epoch 7/20\n",
            "\u001b[1m163/163\u001b[0m \u001b[32m━━━━━━━━━━━━━━━━━━━━\u001b[0m\u001b[37m\u001b[0m \u001b[1m135s\u001b[0m 825ms/step - accuracy: 0.9593 - loss: 0.1493 - val_accuracy: 0.9231 - val_loss: 0.3395 - learning_rate: 2.2621e-04\n",
            "Epoch 8/20\n",
            "\u001b[1m163/163\u001b[0m \u001b[32m━━━━━━━━━━━━━━━━━━━━\u001b[0m\u001b[37m\u001b[0m \u001b[1m130s\u001b[0m 799ms/step - accuracy: 0.9643 - loss: 0.1122 - val_accuracy: 0.9215 - val_loss: 0.2667 - learning_rate: 4.0937e-04\n",
            "Epoch 9/20\n",
            "\u001b[1m163/163\u001b[0m \u001b[32m━━━━━━━━━━━━━━━━━━━━\u001b[0m\u001b[37m\u001b[0m \u001b[1m143s\u001b[0m 799ms/step - accuracy: 0.9692 - loss: 0.1013 - val_accuracy: 0.9167 - val_loss: 0.3319 - learning_rate: 1.8520e-04\n",
            "\u001b[1m20/20\u001b[0m \u001b[32m━━━━━━━━━━━━━━━━━━━━\u001b[0m\u001b[37m\u001b[0m \u001b[1m8s\u001b[0m 353ms/step\n",
            "              precision    recall  f1-score   support\n",
            "\n",
            "      NORMAL       0.90      0.90      0.90       234\n",
            "   PNEUMONIA       0.94      0.94      0.94       390\n",
            "\n",
            "    accuracy                           0.92       624\n",
            "   macro avg       0.92      0.92      0.92       624\n",
            "weighted avg       0.92      0.92      0.92       624\n",
            "\n"
          ]
        },
        {
          "output_type": "display_data",
          "data": {
            "text/plain": [
              "<Figure size 600x500 with 2 Axes>"
            ],
            "image/png": "[encoded data removed]"
          },
          "metadata": {}
        }
      ],
      "source": [
        "import os\n",
        "import numpy as np\n",
        "import tensorflow as tf\n",
        "from tensorflow.keras.preprocessing.image import ImageDataGenerator\n",
        "from tensorflow.keras.applications import VGG16\n",
        "from tensorflow.keras.models import Model\n",
        "from tensorflow.keras.layers import Dense, Dropout, GlobalAveragePooling2D\n",
        "from tensorflow.keras.optimizers import Adam\n",
        "from tensorflow.keras.callbacks import ReduceLROnPlateau, EarlyStopping, LearningRateScheduler\n",
        "from tensorflow.keras.regularizers import l2\n",
        "from sklearn.utils.class_weight import compute_class_weight\n",
        "from sklearn.metrics import classification_report, confusion_matrix\n",
        "import seaborn as sns\n",
        "import matplotlib.pyplot as plt\n",
        "\n",
        "# Directorios del dataset\n",
        "dataset_path = \"chest_xray\"\n",
        "train_dir = os.path.join(dataset_path, \"train\")\n",
        "test_dir = os.path.join(dataset_path, \"test\")\n",
        "\n",
        "# Parámetros\n",
        "target_size = (256, 256)\n",
        "batch_size = 32\n",
        "\n",
        "# Generadores de datos con data augmentation más equilibrado\n",
        "train_datagen = ImageDataGenerator(\n",
        "    rescale=1./255,\n",
        "    rotation_range=15,\n",
        "    width_shift_range=0.15,\n",
        "    height_shift_range=0.15,\n",
        "    shear_range=0.15,\n",
        "    zoom_range=0.15,\n",
        "    horizontal_flip=False\n",
        ")\n",
        "\n",
        "test_datagen = ImageDataGenerator(rescale=1./255)\n",
        "\n",
        "train_generator = train_datagen.flow_from_directory(\n",
        "    train_dir,\n",
        "    target_size=target_size,\n",
        "    batch_size=batch_size,\n",
        "    class_mode='binary'\n",
        ")\n",
        "\n",
        "test_generator = test_datagen.flow_from_directory(\n",
        "    test_dir,\n",
        "    target_size=target_size,\n",
        "    batch_size=batch_size,\n",
        "    class_mode='binary',\n",
        "    shuffle=False\n",
        ")\n",
        "\n",
        "# Cálculo de class weights ajustado\n",
        "classes = train_generator.classes\n",
        "class_weights = compute_class_weight('balanced', classes=np.unique(classes), y=classes)\n",
        "class_weights = {i: class_weights[i] for i in range(len(class_weights))}\n",
        "\n",
        "# Estrategia de ajuste del learning rate\n",
        "def lr_schedule(epoch):\n",
        "    if epoch < 5:\n",
        "        return 1e-4 + (epoch * (5e-4 - 1e-4) / 5)  # Warm-up con límite en 0.0005\n",
        "    return 5e-4 * np.exp(-0.1 * (epoch - 5))  # Decaimiento exponencial\n",
        "\n",
        "# Modelo base VGG16\n",
        "base_vgg = VGG16(weights='imagenet', include_top=False, input_shape=(256, 256, 3))\n",
        "for layer in base_vgg.layers[:-6]:  # Descongelar solo las últimas 6 capas\n",
        "    layer.trainable = False\n",
        "\n",
        "# Capas superiores con regularización\n",
        "x = base_vgg.output\n",
        "x = GlobalAveragePooling2D()(x)\n",
        "x = Dense(256, activation='relu', kernel_regularizer=l2(0.0001))(x)\n",
        "x = Dropout(0.5)(x)\n",
        "x = Dense(128, activation='relu', kernel_regularizer=l2(0.0001))(x)\n",
        "x = Dropout(0.5)(x)\n",
        "output = Dense(1, activation='sigmoid')(x)\n",
        "model_vgg = Model(inputs=base_vgg.input, outputs=output)\n",
        "\n",
        "# Compilación\n",
        "optimizer = Adam(learning_rate=1e-4)\n",
        "model_vgg.compile(optimizer=optimizer, loss='binary_crossentropy', metrics=['accuracy'])\n",
        "\n",
        "# Callbacks\n",
        "callbacks = [\n",
        "    ReduceLROnPlateau(monitor='val_loss', factor=0.5, patience=2, min_lr=1e-6),\n",
        "    EarlyStopping(monitor='val_loss', patience=4, restore_best_weights=True),\n",
        "    LearningRateScheduler(lr_schedule)\n",
        "]\n",
        "\n",
        "# Entrenamiento\n",
        "history_vgg = model_vgg.fit(train_generator, validation_data=test_generator, epochs=20, callbacks=callbacks, class_weight=class_weights)\n",
        "\n",
        "# Evaluación\n",
        "y_true = test_generator.classes\n",
        "y_pred_probs = model_vgg.predict(test_generator)\n",
        "y_pred = (y_pred_probs > 0.4).astype(\"int32\")  # Umbral ajustado a 0.4\n",
        "\n",
        "print(classification_report(y_true, y_pred, target_names=[\"NORMAL\", \"PNEUMONIA\"]))\n",
        "\n",
        "# Matriz de confusión\n",
        "cm = confusion_matrix(y_true, y_pred)\n",
        "plt.figure(figsize=(6, 5))\n",
        "sns.heatmap(cm, annot=True, fmt=\"d\", cmap=\"Blues\", xticklabels=[\"NORMAL\", \"PNEUMONIA\"], yticklabels=[\"NORMAL\", \"PNEUMONIA\"])\n",
        "plt.xlabel(\"Predicted\")\n",
        "plt.ylabel(\"Actual\")\n",
        "plt.title(\"Confusion Matrix\")\n",
        "plt.show()\n",
        "\n",
        "\n"
      ]
    },
    {
      "cell_type": "code",
      "source": [
        "# Evaluación\n",
        "y_true = test_generator.classes\n",
        "y_pred_probs = model_vgg.predict(test_generator)\n",
        "y_pred = (y_pred_probs > 0.5).astype(\"int32\")  # Umbral ajustado a 0.5\n",
        "\n",
        "print(classification_report(y_true, y_pred, target_names=[\"NORMAL\", \"PNEUMONIA\"]))\n",
        "\n",
        "# Matriz de confusión\n",
        "cm = confusion_matrix(y_true, y_pred)\n",
        "plt.figure(figsize=(6, 5))\n",
        "sns.heatmap(cm, annot=True, fmt=\"d\", cmap=\"Blues\", xticklabels=[\"NORMAL\", \"PNEUMONIA\"], yticklabels=[\"NORMAL\", \"PNEUMONIA\"])\n",
        "plt.xlabel(\"Predicted\")\n",
        "plt.ylabel(\"Actual\")\n",
        "plt.title(\"Confusion Matrix\")\n",
        "plt.show()"
      ],
      "metadata": {
        "colab": {
          "base_uri": "https://localhost:8080/",
          "height": 661
        },
        "id": "9KE1aKb4Oz5M",
        "outputId": "62eb0d96-ae4c-4815-a35c-3c74e59e8b6d"
      },
      "execution_count": 4,
      "outputs": [
        {
          "output_type": "stream",
          "name": "stdout",
          "text": [
            "\u001b[1m20/20\u001b[0m \u001b[32m━━━━━━━━━━━━━━━━━━━━\u001b[0m\u001b[37m\u001b[0m \u001b[1m6s\u001b[0m 287ms/step\n",
            "              precision    recall  f1-score   support\n",
            "\n",
            "      NORMAL       0.87      0.90      0.88       234\n",
            "   PNEUMONIA       0.94      0.92      0.93       390\n",
            "\n",
            "    accuracy                           0.91       624\n",
            "   macro avg       0.90      0.91      0.91       624\n",
            "weighted avg       0.91      0.91      0.91       624\n",
            "\n"
          ]
        },
        {
          "output_type": "display_data",
          "data": {
            "text/plain": [
              "<Figure size 600x500 with 2 Axes>"
            ],
            "image/png": "[encoded data removed]"
          },
          "metadata": {}
        }
      ]
    },
    {
      "cell_type": "code",
      "source": [
        "# Guardar el modelo CNN\n",
        "model_vgg.save('model_vgg16.h5')"
      ],
      "metadata": {
        "colab": {
          "base_uri": "https://localhost:8080/"
        },
        "id": "gXkerndKOz7v",
        "outputId": "22bc0f49-6afd-4e06-a31e-e7fe7a8631b9"
      },
      "execution_count": 5,
      "outputs": [
        {
          "output_type": "stream",
          "name": "stderr",
          "text": [
            "WARNING:absl:You are saving your model as an HDF5 file via `model.save()` or `keras.saving.save_model(model)`. This file format is considered legacy. We recommend using instead the native Keras format, e.g. `model.save('my_model.keras')` or `keras.saving.save_model(model, 'my_model.keras')`. \n"
          ]
        }
      ]
    },
    {
      "cell_type": "code",
      "source": [
        "from google.colab import files\n",
        "\n",
        "# Descargar el archivo guardado del modelo\n",
        "files.download('model_vgg16.h5')"
      ],
      "metadata": {
        "colab": {
          "base_uri": "https://localhost:8080/",
          "height": 17
        },
        "id": "w8YmpDDDOz-L",
        "outputId": "3ee974a0-a6a5-4ad7-a977-2c45a273ba95"
      },
      "execution_count": 7,
      "outputs": [
        {
          "output_type": "display_data",
          "data": {
            "text/plain": [
              "<IPython.core.display.Javascript object>"
            ],
            "application/javascript": [
              "\n",
              "    async function download(id, filename, size) {\n",
              "      if (!google.colab.kernel.accessAllowed) {\n",
              "        return;\n",
              "      }\n",
              "      const div = document.createElement('div');\n",
              "      const label = document.createElement('label');\n",
              "      label.textContent = `Downloading \"${filename}\": `;\n",
              "      div.appendChild(label);\n",
              "      const progress = document.createElement('progress');\n",
              "      progress.max = size;\n",
              "      div.appendChild(progress);\n",
              "      document.body.appendChild(div);\n",
              "\n",
              "      const buffers = [];\n",
              "      let downloaded = 0;\n",
              "\n",
              "      const channel = await google.colab.kernel.comms.open(id);\n",
              "      // Send a message to notify the kernel that we're ready.\n",
              "      channel.send({})\n",
              "\n",
              "      for await (const message of channel.messages) {\n",
              "        // Send a message to notify the kernel that we're ready.\n",
              "        channel.send({})\n",
              "        if (message.buffers) {\n",
              "          for (const buffer of message.buffers) {\n",
              "            buffers.push(buffer);\n",
              "            downloaded += buffer.byteLength;\n",
              "            progress.value = downloaded;\n",
              "          }\n",
              "        }\n",
              "      }\n",
              "      const blob = new Blob(buffers, {type: 'application/binary'});\n",
              "      const a = document.createElement('a');\n",
              "      a.href = window.URL.createObjectURL(blob);\n",
              "      a.download = filename;\n",
              "      div.appendChild(a);\n",
              "      a.click();\n",
              "      div.remove();\n",
              "    }\n",
              "  "
            ]
          },
          "metadata": {}
        },
        {
          "output_type": "display_data",
          "data": {
            "text/plain": [
              "<IPython.core.display.Javascript object>"
            ],
            "application/javascript": [
              "download(\"download_054b786d-6cee-47ba-90ee-55df477d0dba\", \"model_vgg16.h5\", 136457352)"
            ]
          },
          "metadata": {}
        }
      ]
    },
    {
      "cell_type": "code",
      "source": [],
      "metadata": {
        "id": "zF1RuR5hO0As"
      },
      "execution_count": null,
      "outputs": []
    },
    {
      "cell_type": "code",
      "source": [],
      "metadata": {
        "id": "NuLMvdGbO0C9"
      },
      "execution_count": null,
      "outputs": []
    },
    {
      "cell_type": "code",
      "source": [],
      "metadata": {
        "id": "c4d9AyBsO0FK"
      },
      "execution_count": null,
      "outputs": []
    }
  ]
}